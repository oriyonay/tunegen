{
  "nbformat": 4,
  "nbformat_minor": 0,
  "metadata": {
    "colab": {
      "name": "Chord Progression Generator.ipynb",
      "provenance": []
    },
    "kernelspec": {
      "name": "python3",
      "display_name": "Python 3"
    }
  },
  "cells": [
    {
      "cell_type": "markdown",
      "metadata": {
        "id": "ZYH5KccS3VVk"
      },
      "source": [
        "(SMALL BUG) NOTE: if a chord of type '56' is selected (instead of what it should be: '5/6') then this won't work. easy to fix but not necessary since web (JS) version has values hard-coded."
      ]
    },
    {
      "cell_type": "code",
      "metadata": {
        "id": "MIGU3edClz3L"
      },
      "source": [
        "# import useful libraries:\n",
        "import pandas as pd\n",
        "import random"
      ],
      "execution_count": null,
      "outputs": []
    },
    {
      "cell_type": "code",
      "metadata": {
        "id": "0Eqso4EQt5Xy"
      },
      "source": [
        "CHORD_PROGRESSION_LENGTH = 4 # how many chords will the generated chord progression have?"
      ],
      "execution_count": null,
      "outputs": []
    },
    {
      "cell_type": "code",
      "metadata": {
        "id": "bDvFqBCbl9OB"
      },
      "source": [
        "# import the CSV file:\n",
        "CSV_URL = 'https://raw.githubusercontent.com/jhamer90811/chord_progression_assistant/master/four_chord_songs.csv'\n",
        "data = pd.read_csv(CSV_URL)['cp'].tolist()\n",
        "\n",
        "# process the data (separate strings by comma):\n",
        "data = [d.split(',') for d in data]"
      ],
      "execution_count": null,
      "outputs": []
    },
    {
      "cell_type": "code",
      "metadata": {
        "id": "9RpqodZRqn9K"
      },
      "source": [
        "# analyze frequencies of starting chords:\n",
        "first_chords = {}\n",
        "for chord_progression in data:\n",
        "  if chord_progression[0] not in first_chords:\n",
        "    first_chords[chord_progression[0]] = 1\n",
        "  else:\n",
        "    first_chords[chord_progression[0]] += 1\n",
        "\n",
        "# normalize data to get frequency percentage:\n",
        "total_votes = sum(first_chords[i] for i in first_chords)\n",
        "for chord in first_chords:\n",
        "  first_chords[chord] /= total_votes"
      ],
      "execution_count": null,
      "outputs": []
    },
    {
      "cell_type": "code",
      "metadata": {
        "id": "17D3KyZHmY5f"
      },
      "source": [
        "# something resembling n-gram analysis:\n",
        "next_chord = {}\n",
        "for chord_progression in data:\n",
        "  for c in range(len(chord_progression) - 1):\n",
        "    if chord_progression[c] not in next_chord:\n",
        "      next_chord[chord_progression[c]] = {}\n",
        "    if chord_progression[c+1] not in next_chord[chord_progression[c]]:\n",
        "      next_chord[chord_progression[c]][chord_progression[c+1]] = 1\n",
        "    else:\n",
        "      next_chord[chord_progression[c]][chord_progression[c+1]] += 1"
      ],
      "execution_count": null,
      "outputs": []
    },
    {
      "cell_type": "code",
      "metadata": {
        "id": "SEKikqD4pKl-"
      },
      "source": [
        "# normalize the data to get frequency percentage:\n",
        "for starting_chord in next_chord:\n",
        "  total_votes = sum(next_chord[starting_chord][k] for k in next_chord[starting_chord])\n",
        "  for chord in next_chord[starting_chord]:\n",
        "    next_chord[starting_chord][chord] /= total_votes"
      ],
      "execution_count": null,
      "outputs": []
    },
    {
      "cell_type": "code",
      "metadata": {
        "id": "AdVpSt0rrqRX"
      },
      "source": [
        "# utility function to pick an element out of a map of weights (weighted random):\n",
        "def pick(elements):\n",
        "  # generate a random number from 0 to 1:\n",
        "  r = random.random()\n",
        "\n",
        "  # pick the number accordingly:\n",
        "  for e in elements:\n",
        "    if r < elements[e]:\n",
        "      return e\n",
        "    r -= elements[e]"
      ],
      "execution_count": null,
      "outputs": []
    },
    {
      "cell_type": "code",
      "metadata": {
        "id": "drmuKX0VqQ1d"
      },
      "source": [
        "# generate a chord progression:\n",
        "cp = [pick(first_chords)] # pick the first chord\n",
        "for i in range(CHORD_PROGRESSION_LENGTH-1):\n",
        "  cp.append(pick(next_chord[cp[-1]]))"
      ],
      "execution_count": null,
      "outputs": []
    },
    {
      "cell_type": "code",
      "metadata": {
        "colab": {
          "base_uri": "https://localhost:8080/"
        },
        "id": "YCHZ9gPVstPB",
        "outputId": "a202b93c-436f-4012-ea26-e432097bce8e"
      },
      "source": [
        "# useful lists for storing musical information:\n",
        "keys = ['A', 'Bb', 'B', 'C', 'C#', 'D', 'Eb', 'E', 'F', 'F#', 'G', 'G#']\n",
        "chord_type = ['-', 'maj', 'min', 'min', 'maj', 'maj', 'min', 'dim']\n",
        "translate = {'1' : 0, '2' : 2, '3' : 4, '4': 5, '5': 7, '6': 9, '7': 11} # the major scale in semitones\n",
        "\n",
        "# pick a key:\n",
        "key = random.choice(keys)\n",
        "key_index = keys.index(key)\n",
        "\n",
        "# generate the chord progression in the selected key:\n",
        "print('key: %s major' % key)\n",
        "print('chord progression: ', end='')\n",
        "for chord in cp:\n",
        "  if '/' in chord:\n",
        "    # special case, if chord is a two-part chord:\n",
        "    chord_one, chord_two = chord.split('/')\n",
        "    print('%s%s/' % (keys[(key_index + translate[chord_one]) % 12], chord_type[int(chord_one)]), end='')\n",
        "    print('%s%s ' % (keys[(key_index + translate[chord_two]) % 12], chord_type[int(chord_two)]), end='')\n",
        "  else:\n",
        "    print('%s%s ' % (keys[(key_index + translate[chord]) % 12], chord_type[int(chord)]), end='')\n",
        "print()\n",
        "print('it\\'s a %sprogression!' % ''.join(chord + ' ' for chord in cp))"
      ],
      "execution_count": null,
      "outputs": [
        {
          "output_type": "stream",
          "text": [
            "key: F major\n",
            "chord progression: Fmaj Bbmaj/Cmaj Cmaj Dmin/Edim \n",
            "it's a 1 4/5 5 6/7 progression!\n"
          ],
          "name": "stdout"
        }
      ]
    }
  ]
}